{
 "cells": [
  {
   "cell_type": "code",
   "execution_count": 1,
   "metadata": {},
   "outputs": [],
   "source": [
    "# Read the file\n",
    "with open (\"input_day2.txt\") as f:\n",
    "    lines = f.readlines()\n",
    "    "
   ]
  },
  {
   "cell_type": "code",
   "execution_count": 4,
   "metadata": {},
   "outputs": [],
   "source": [
    "# Create dictionary of lists where each line(report) of input will be a list of integers\n",
    "\n",
    "dict_of_reports = {}\n",
    "\n",
    "for i, line in enumerate(lines, start=1): \n",
    "    list_of_reports = [int(value) for value in line.split()]\n",
    "    dict_of_reports[i] = list_of_reports"
   ]
  },
  {
   "cell_type": "code",
   "execution_count": 5,
   "metadata": {},
   "outputs": [],
   "source": [
    "# Define a function to check if a level is valid\n",
    "\n",
    "def check_levels(level):\n",
    "   ascending = all(1 <= level[i + 1] - level[i] <= 3 for i in range(len(level) - 1))\n",
    "   descending = all(-3 <= level[i + 1] - level[i] <= -1 for i in range(len(level) - 1))\n",
    "   return ascending or descending"
   ]
  },
  {
   "cell_type": "code",
   "execution_count": 6,
   "metadata": {},
   "outputs": [],
   "source": [
    "# Check each list in the dictionary\n",
    "\n",
    "results = {}\n",
    "\n",
    "for key, level_list in dict_of_reports.items():\n",
    "    results[key] = check_levels(level_list)"
   ]
  },
  {
   "cell_type": "code",
   "execution_count": 7,
   "metadata": {},
   "outputs": [
    {
     "name": "stdout",
     "output_type": "stream",
     "text": [
      "490\n"
     ]
    }
   ],
   "source": [
    "# Extract keys of levels that are True\n",
    "true_keys = [key for key, is_valid in results.items() if is_valid]\n",
    "print(len(true_keys))"
   ]
  },
  {
   "cell_type": "code",
   "execution_count": 8,
   "metadata": {},
   "outputs": [],
   "source": [
    "def can_be_valid_with_one_removal(level):\n",
    "    \"\"\"\n",
    "    Checks if removing one number from the level makes it a valid sequence.\n",
    "    \n",
    "    Args:\n",
    "        level (list): A list of integers representing the level.\n",
    "\n",
    "    Returns:\n",
    "        bool: True if removing one number can make the level valid, False otherwise.\n",
    "    \"\"\"\n",
    "    for i in range(len(level)):\n",
    "        # Create a modified list by removing the i-th level\n",
    "        modified_level = level[:i] + level[i + 1:]\n",
    "        \n",
    "        # Check if the modified list is safe\n",
    "        ascending = all(1 <= modified_level[j + 1] - modified_level[j] <= 3 for j in range(len(modified_level) - 1))\n",
    "        descending = all(-3 <= modified_level[j + 1] - modified_level[j] <= -1 for j in range(len(modified_level) - 1))\n",
    "        \n",
    "        if ascending or descending:\n",
    "            return True  \n",
    "    return False  "
   ]
  },
  {
   "cell_type": "code",
   "execution_count": 9,
   "metadata": {},
   "outputs": [
    {
     "name": "stdout",
     "output_type": "stream",
     "text": [
      "536\n"
     ]
    }
   ],
   "source": [
    "# Check each level and store the results\n",
    "results = {key: can_be_valid_with_one_removal(level) for key, level in dict_of_reports.items()}\n",
    "\n",
    "# Extract keys of levels that are True\n",
    "true_keys = [key for key, is_valid in results.items() if is_valid]\n",
    "print(len(true_keys))"
   ]
  },
  {
   "cell_type": "code",
   "execution_count": null,
   "metadata": {},
   "outputs": [],
   "source": []
  }
 ],
 "metadata": {
  "kernelspec": {
   "display_name": "Python 3",
   "language": "python",
   "name": "python3"
  },
  "language_info": {
   "codemirror_mode": {
    "name": "ipython",
    "version": 3
   },
   "file_extension": ".py",
   "mimetype": "text/x-python",
   "name": "python",
   "nbconvert_exporter": "python",
   "pygments_lexer": "ipython3",
   "version": "3.12.3"
  }
 },
 "nbformat": 4,
 "nbformat_minor": 2
}
