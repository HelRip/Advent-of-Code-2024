{
  "cells": [
    {
      "cell_type": "code",
      "execution_count": 1,
      "metadata": {
        "id": "9F3R8joK8Bcr"
      },
      "outputs": [],
      "source": [
        "# import regular expression and read the input file\n",
        "import re\n",
        "\n",
        "with open(\"input_day3.txt\",\"r\") as f:\n",
        "  lines = f.readlines()"
      ]
    },
    {
      "cell_type": "code",
      "execution_count": 2,
      "metadata": {
        "colab": {
          "base_uri": "https://localhost:8080/"
        },
        "id": "m56vf7ru7RFd",
        "outputId": "8c01f007-0840-4544-d317-0f68c29400d8"
      },
      "outputs": [],
      "source": [
        "# Regular expressions for patterns\n",
        "\n",
        "mul_results = []\n",
        "\n",
        "pattern = r\"mul\\((\\d+),(\\d+)\\)\"\n",
        "\n",
        "for line in lines:\n",
        "    # Find all matches (extracting numbers as tuples)\n",
        "    matches = re.findall(pattern, line)\n",
        "\n",
        "    # Calculate products for this line\n",
        "    products = [int(x) * int(y) for x, y in matches]\n",
        "\n",
        "    # Add the products of this line to mul_results\n",
        "    mul_results.extend(products)\n",
        "\n"
      ]
    },
    {
      "cell_type": "code",
      "execution_count": 3,
      "metadata": {
        "colab": {
          "base_uri": "https://localhost:8080/"
        },
        "id": "Dw0qBXIb8m_F",
        "outputId": "3e3f94b5-8dec-4ce2-ea2a-e58ea9d4b578"
      },
      "outputs": [
        {
          "name": "stdout",
          "output_type": "stream",
          "text": [
            "Sum of Results: 159833790\n"
          ]
        }
      ],
      "source": [
        "print(\"Sum of Results:\", sum(mul_results)) "
      ]
    },
    {
      "cell_type": "code",
      "execution_count": 4,
      "metadata": {
        "colab": {
          "base_uri": "https://localhost:8080/"
        },
        "id": "-1MSPTtW-MAR",
        "outputId": "6c510a96-4be5-4d44-c9de-89193bdd3d4c"
      },
      "outputs": [
        {
          "name": "stdout",
          "output_type": "stream",
          "text": [
            "Sum of Results: 89349241\n"
          ]
        }
      ],
      "source": [
        "# define a process_lines function\n",
        "\n",
        "def process_lines(lines):\n",
        "    # Regular expressions for patterns\n",
        "    mul_pattern = r\"mul\\((\\d+),(\\d+)\\)\"\n",
        "    toggle_pattern = r\"(do\\(\\)|don't\\(\\))\"\n",
        "\n",
        "    mul_results = []\n",
        "\n",
        "    # Initial state of `mul` instructions\n",
        "    enabled = True\n",
        "\n",
        "    # Process each line\n",
        "    for line in lines:\n",
        "        # Split the line into tokens by finding all mul() and toggle() patterns\n",
        "        tokens = re.findall(f\"{mul_pattern}|{toggle_pattern}\", line)\n",
        "\n",
        "        for token in tokens:\n",
        "            if token[0] and token[1]:  # If it's a mul(x,y)\n",
        "                if enabled:\n",
        "                    x, y = int(token[0]), int(token[1])\n",
        "                    mul_results.append(x * y)\n",
        "            elif token[2]:  # If it's a toggle (do() or don't())\n",
        "                if token[2] == \"do()\":\n",
        "                    enabled = True\n",
        "                elif token[2] == \"don't()\":\n",
        "                    enabled = False\n",
        "\n",
        "    return mul_results\n",
        "\n",
        "\n",
        "# Process the lines\n",
        "mul_results = process_lines(lines)\n",
        "\n",
        "# Calculate the sum of the results\n",
        "result_sum = sum(mul_results)\n",
        "\n",
        "print(\"Sum of Results:\", result_sum)"
      ]
    }
  ],
  "metadata": {
    "colab": {
      "provenance": []
    },
    "kernelspec": {
      "display_name": "Python 3",
      "name": "python3"
    },
    "language_info": {
      "name": "python"
    }
  },
  "nbformat": 4,
  "nbformat_minor": 0
}
