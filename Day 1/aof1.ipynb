{
 "cells": [
  {
   "cell_type": "code",
   "execution_count": 2,
   "metadata": {},
   "outputs": [],
   "source": [
    "with open (\"input_day1.txt\", \"r\") as f:\n",
    "    lines = f.readlines()\n",
    "\n",
    "first_list = []\n",
    "second_list = []\n",
    "\n",
    "for line in lines:\n",
    "    nums = line.split()\n",
    "    first_list.append(nums[0])\n",
    "    second_list.append(nums[1])"
   ]
  },
  {
   "cell_type": "code",
   "execution_count": 5,
   "metadata": {},
   "outputs": [],
   "source": [
    "# map the lists to int and sort them to be ascending\n",
    "\n",
    "first_list = list(map(int, first_list))\n",
    "second_list = list(map(int, second_list))\n",
    "\n",
    "first_list.sort()\n",
    "second_list.sort()"
   ]
  },
  {
   "cell_type": "code",
   "execution_count": 8,
   "metadata": {},
   "outputs": [
    {
     "name": "stdout",
     "output_type": "stream",
     "text": [
      "2000468\n"
     ]
    }
   ],
   "source": [
    "#now find the difference between values of the same position of each list, the difference to be always positive\n",
    "\n",
    "diff = [abs(second_list[i] - first_list[i]) for i in range(len(first_list))]\n",
    "\n",
    "print(sum(diff))"
   ]
  },
  {
   "cell_type": "code",
   "execution_count": 12,
   "metadata": {},
   "outputs": [
    {
     "name": "stdout",
     "output_type": "stream",
     "text": [
      "18567089\n"
     ]
    }
   ],
   "source": [
    "result = [first_list[i] * second_list.count(first_list[i]) for i in range(len(first_list))]\n",
    "print(sum(result))"
   ]
  },
  {
   "cell_type": "code",
   "execution_count": null,
   "metadata": {},
   "outputs": [],
   "source": []
  }
 ],
 "metadata": {
  "kernelspec": {
   "display_name": "Python 3",
   "language": "python",
   "name": "python3"
  },
  "language_info": {
   "codemirror_mode": {
    "name": "ipython",
    "version": 3
   },
   "file_extension": ".py",
   "mimetype": "text/x-python",
   "name": "python",
   "nbconvert_exporter": "python",
   "pygments_lexer": "ipython3",
   "version": "3.12.3"
  }
 },
 "nbformat": 4,
 "nbformat_minor": 2
}
